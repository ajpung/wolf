{
 "cells": [
  {
   "cell_type": "markdown",
   "id": "af289ed7",
   "metadata": {},
   "source": [
    "### Audio track loading and visualization"
   ]
  },
  {
   "cell_type": "code",
   "execution_count": null,
   "id": "707ca9c7",
   "metadata": {},
   "outputs": [],
   "source": [
    "# Define audio file\n",
    "audio_file = \"..//samples//piano_oneshot.mp3\""
   ]
  },
  {
   "cell_type": "markdown",
   "id": "089d2d8d",
   "metadata": {},
   "source": [
    "### Track characterization\n",
    "\n",
    "Here, "
   ]
  },
  {
   "cell_type": "code",
   "execution_count": null,
   "id": "f77f2365",
   "metadata": {},
   "outputs": [],
   "source": [
    "import numpy as np\n",
    "from pydub import AudioSegment\n",
    "\n",
    "song = AudioSegment.from_mp3(audio_file)\n",
    "\n",
    "# Parse track into channels\n",
    "channel_sounds = song.split_to_mono()\n",
    "signals = [s.get_array_of_samples() for s in channel_sounds]\n",
    "fp_arr = np.array(signals).T.astype(np.float32)\n",
    "fp_arr /= np.iinfo(signals[0].typecode).max  # Shape: (464256,2)\n",
    "\n",
    "# Extract track characteristics\n",
    "num_samp = fp_arr.shape[0]\n",
    "duration = song.duration_seconds\n",
    "song_time = np.linspace(start=0, stop=duration, num=num_samp)"
   ]
  },
  {
   "cell_type": "markdown",
   "id": "c2e91cd2",
   "metadata": {},
   "source": [
    "### Plot each isolated audio channel"
   ]
  },
  {
   "cell_type": "code",
   "execution_count": null,
   "id": "5eddfd57",
   "metadata": {},
   "outputs": [],
   "source": [
    "import matplotlib.pyplot as plt\n",
    "\n",
    "plt.style.use(\"dark_background\")\n",
    "f, (ax1, ax2) = plt.subplots(1, 2, sharey=True, figsize=(10, 4))\n",
    "plt.suptitle(\"Audio Plot\")\n",
    "ax1.plot(song_time, fp_arr[:, 0], color=\"green\", linewidth=0.5)\n",
    "ax1.set_xlabel(\"Time [s]\")\n",
    "ax1.set_ylabel(\"Signal wave\")\n",
    "ax1.set_xlim(0, duration)\n",
    "ax2.plot(song_time, fp_arr[:, 0], color=\"orange\", linewidth=0.5)\n",
    "ax2.set_xlim(0, duration)\n",
    "ax2.set_xlabel(\"Time [s]\")\n",
    "plt.tight_layout()\n",
    "plt.show()"
   ]
  },
  {
   "cell_type": "markdown",
   "id": "0f13663d",
   "metadata": {},
   "source": [
    "### Mess with one side of the audio"
   ]
  },
  {
   "cell_type": "code",
   "execution_count": null,
   "id": "2a9ffb75",
   "metadata": {},
   "outputs": [],
   "source": []
  },
  {
   "cell_type": "markdown",
   "id": "397e6315",
   "metadata": {},
   "source": [
    "### Substitute one audio side for another track"
   ]
  },
  {
   "cell_type": "code",
   "execution_count": null,
   "id": "c66923e1",
   "metadata": {},
   "outputs": [],
   "source": []
  },
  {
   "cell_type": "markdown",
   "id": "9ad3f481",
   "metadata": {},
   "source": [
    "### Plot channels in real-time as they play"
   ]
  },
  {
   "cell_type": "code",
   "execution_count": null,
   "id": "5162583d",
   "metadata": {},
   "outputs": [],
   "source": [
    "\"\"\"\n",
    "fig = plt.figure()\n",
    "ax = fig.add_subplot(1, 1, 1) \n",
    "\n",
    "for i in range(20):\n",
    "    x = np.arange(0, i, 0.1)\n",
    "    y = np.sin(x)\n",
    "    \n",
    "    ax.set_xlim(0, i)\n",
    "    \n",
    "    ax.cla()\n",
    "    ax.plot(x, y)\n",
    "    display(fig)\n",
    "    \n",
    "    clear_output(wait = True)\n",
    "    plt.pause(0.5)\n",
    "\"\"\""
   ]
  }
 ],
 "metadata": {
  "kernelspec": {
   "display_name": "Python 3",
   "language": "python",
   "name": "python3"
  },
  "language_info": {
   "codemirror_mode": {
    "name": "ipython",
    "version": 3
   },
   "file_extension": ".py",
   "mimetype": "text/x-python",
   "name": "python",
   "nbconvert_exporter": "python",
   "pygments_lexer": "ipython3",
   "version": "3.12.2"
  }
 },
 "nbformat": 4,
 "nbformat_minor": 5
}
